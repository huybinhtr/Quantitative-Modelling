{
 "cells": [
  {
   "cell_type": "markdown",
   "metadata": {},
   "source": [
    "# **QUANTITATIVE RESEARCHER - Algorithm and Analysis**             \n",
    "                                \n",
    "                                \n",
    "                                                                                                                                                                                                  **Author: Huy Binh TRAN**"
   ]
  },
  {
   "cell_type": "markdown",
   "metadata": {},
   "source": [
    "#  What are the Different Types of Mathematics Found in Quantitative Finance?\n",
    "\n",
    "The real-world subject of quantitative finance uses tools from many branches of mathematics. And financial modelling can be approached in a variety of different ways. For some strange reason the advocates of different branches of mathematics get quite emotional when discussing the merits and demerits of their methodologies and those of their ‘**opponents**.’ Is this a territorial thing? What are the pros and cons of martingales and differential equations? What is all this fuss, and will it end in tears before bedtime?\n",
    "Here’s a list of the various approaches to modelling and a selection of useful tools. The distinction between a ‘**modelling approach**’ and a ‘**tool**’ will start to become clear.\n",
    "\n",
    "\n",
    "<span style=\"color:red\">**Modelling approaches**</span>\n",
    "\n",
    "- **Probabilistic** : One of the main assumptions about the financial markets, at least as far as quantitative finance goes, is that asset prices are random. We tend to think of describing financial variables as following some random path, with parameters describing the growth of the asset and its degree of randomness. We effectively model the asset path via a specified rate of growth, on average, and its deviation from that average. This approach to modelling has had the greatest impact over the last 30 years, leading to the explosive growth of the derivatives markets.\n",
    "\n",
    "- **Deterministic**: The idea behind this approach is that our model will tell us everything about the future. Given enough data, and a big enough brain, we can write down some equations or an algorithm for predicting the future. Interestingly, the subjects of dynamical systems and chaos fall into this cat- egory. And, as you know, chaotic systems show such sensitivity to initial conditions that predictability is in practice impossible. This is the ‘butterfly effect,’ that a butterfly flap- ping its wings in Brazil will ‘cause’ rainfall over Manchester. (And what doesn’t!) A topic popular in the early 1990s, this has not lived up to its promises in the financial world.\n",
    "\n",
    "- **Discrete**: difference equations: Discrete means that asset prices and/or time can only be incremented in finite chunks, whether a dollar or a cent, a year or a day.\n",
    "\n",
    "- **Continuous**: differential equations:  Continuous means that no such lower increment exists. The mathematics of continuous processes is often easier than that of discrete ones. But then when it comes to number crunching you have in any case to turn a continuous model into a discrete one.\n",
    "\n",
    "For an important example: In discrete models we end up with difference equations. An example of this is the binomial model for option pricing. Time progresses in finite amounts, the time step. In continuous models we end up with differential equations. The equivalent of the binomial model in discrete space is the **Black–Scholes model**, which has continuous asset price and continuous time. Whether **Binomial** or **Black–Scholes**, both of these mod- els come from the probabilistic assumptions about the financial world.\n",
    "\n",
    "\n",
    "<span style=\"color:red\">**Usefull tools**</span>\n",
    "\n",
    "- **Simulations**: If the financial world is random then we can experiment with the future by running simulations. For example, an asset price may be represented by its average growth and its risk, so let’s simulate what could happen in the future to this random asset. If we were to take such an approach we would want to run many, many simulations. There’d be little point in running just the one; we’d like to see a range of possible future scenarios. *Simulations can also be used for non-probabilistic problems. Just because of the similarities between mathematical equations, a model derived in a deterministic framework may have a probabilistic interpretation*.\n",
    "\n",
    "- **Discretization methods**: The complement to simulation methods, and there are many types of these. The best known are the finite-difference methods which are discretizations of continu- ous models such as Black–Scholes.\n",
    "- **Approximations**: In modelling we aim to come up with a solution representing something meaningful and useful, such as an option price. Unless the model is really simple, we may not be able to solve it easily. This is where approximations come in. A complicated model may have approximate solutions. And these approximate solutions might be good enough for our purposes.\n",
    "\n",
    "- **Asymptotic analysis**: this is an incredibly useful technique, used in most branches of applicable mathematics, but until recently almost unknown in finance. The idea is simple: find approximate solutions to a complicated problem by exploiting parameters or variables that are either large\n",
    "or small, or special in some way. For example, there are simple approximations for vanilla option values close to expiry.\n",
    "\n",
    "- **Series solutions**: If your equation is linear (and they almost all are in quantitative finance) then you might be able to solve a particular problem by adding together the solutions of other problems. Series solutions are when you decompose the solu- tion into a (potentially infinite) sum of simple functions, such as sines and cosines, or a power series. This is the case, for example, with barrier options having two barriers, one below the current asset price and the other above.\n",
    "\n",
    "- **Green’s functions** :  Green's functions are mathematical tools used in physics and engineering to solve differential equations that describe various physical phenomena, such as heat conduction, fluid flow, or electromagnetic fields.  This is a very special technique that only works in certain situations. The idea is that solutions to some difficult problems can be built up from solutions to special cases of a similar problem.\n",
    "\n",
    "\n",
    "\n",
    "\n"
   ]
  },
  {
   "cell_type": "markdown",
   "metadata": {},
   "source": [
    "## Present value and future value of money\n"
   ]
  },
  {
   "cell_type": "markdown",
   "metadata": {},
   "source": [
    "In finance, the present value (PV) and future value (FV) of money are essential concepts that help in evaluating the time value of money. The time value of money is the idea that money available at the present time is worth more than the same amount in the future, due to its potential earning capacity.\n",
    "\n",
    "Present value (PV): This is the present value of $x with the consideration interest rate $r$ and the $x$ cash flow in the future with respect to the number of year. This defines how much of a future sum of money is worth today given a specific rate of interet\n",
    "$$\\frac{x}{(1+r)^{n}} $$\n",
    "\n",
    "Future value: is the value of a current asset at a specified date in the future based on an assumed rate of growth over time\n",
    "\n",
    "$$x(1+r)^{n}$$\n",
    "\n",
    "If we have to deal with the continous mode with diferential equation. The interest I receive must be proportional to the actual **x(t)** amount I have and the **r** interest rate and the **dt** time step\n",
    "$$x(t)=x(0)e^{rt}$$\n",
    "\n",
    "\n",
    "\n",
    " "
   ]
  },
  {
   "cell_type": "code",
   "execution_count": 2,
   "metadata": {},
   "outputs": [
    {
     "name": "stdout",
     "output_type": "stream",
     "text": [
      "Future value (discrete model) of x: 127.62815625000003\n",
      "Present value (discrete model) of x: 78.35261664684589\n",
      "Future value (continuous model) of x: 128.40254166877415\n",
      "Present values (continuous model) of x: 77.8800783071405\n"
     ]
    }
   ],
   "source": [
    "from math import exp\n",
    "\n",
    "\n",
    "def future_discrete_value(x, r, n):\n",
    "    return x*(1+r)**n\n",
    "\n",
    "\n",
    "def present_discrete_value(x, r, n):\n",
    "    return x*(1+r)**-n\n",
    "\n",
    "\n",
    "def future_continuous_value(x, r, t):\n",
    "    return x*exp(r*t)\n",
    "\n",
    "\n",
    "def present_continuous_value(x, r, t):\n",
    "    return x*exp(-r*t)\n",
    "\n",
    "\n",
    "if __name__ == '__main__':\n",
    "\n",
    "    # value of investment in dollars\n",
    "    x = 100\n",
    "    # define the interest rate (r)\n",
    "    r = 0.05\n",
    "    # duration (years)\n",
    "    n = 5\n",
    "\n",
    "    print(\"Future value (discrete model) of x: %s\" % future_discrete_value(x, r, n))\n",
    "    print(\"Present value (discrete model) of x: %s\" % present_discrete_value(x, r, n))\n",
    "    print(\"Future value (continuous model) of x: %s\" % future_continuous_value(x, r, n))\n",
    "    print(\"Present values (continuous model) of x: %s\" % present_continuous_value(x, r, n))"
   ]
  },
  {
   "cell_type": "markdown",
   "metadata": {},
   "source": [
    "## Stock and shares"
   ]
  },
  {
   "cell_type": "markdown",
   "metadata": {},
   "source": [
    "Stock price rise and fall due to the fluctutation of supply and demand; if more/fewer people want to buy a given stocks the market price will  increase/ decrease .\n",
    "There may be growth in the value of the stock that can be realized if you sell a given stock\\\n",
    "But still a risky given-so-called diividents.\n",
    "there are so-called dividends. These are payments paid\n",
    "out every quarter or every six months to the shareholders\n",
    "the amount of dividend usually depends on the\n",
    "profitability of the given company.\n",
    "\n"
   ]
  },
  {
   "cell_type": "markdown",
   "metadata": {},
   "source": [
    "\n",
    "\n",
    "<span style=\"color:red\">Meassuring the risk of stock - Volatility</span>\n",
    "\n",
    "- Statistical measure of the dispersion of returns for a given security\n",
    "which is the amount of uncertainty (or risk) about the size of\n",
    "changes in the value of a given security (stock, bond etc.)\n",
    "- We can measure volatility with standard deviation\n",
    "or variance between return's of the same security\n",
    "Higher the volality the risker the security\n",
    "- We can use the Capital Asset Pricing Model (CAPM)\n",
    "with the $\\beta$ value to approximate volatility\n"
   ]
  },
  {
   "cell_type": "markdown",
   "metadata": {},
   "source": [
    "## Commodities ##\n",
    "Commodities are raw products such as **gold, oil** or **natural gas** .\n",
    "\n",
    "Investing into commodities is not that simple so that commodieties such as oil is extremely volatile. This is why there are **future contracts**\n",
    "\n",
    "Commodities prices are usually very similar to **Random walk**. Commodity prices rise and fall due to the fluctuation of the supply and demand. *If more people want to buy a given commodity then the market price will increase*\n",
    "\n",
    "**Future contract** are made in an attempt tby producers and suppliers of commodities to advoid market volality. They negociate the price of a given commodity in the future.\n",
    "\n",
    "The commodity prices typically rise when inflation is accelerating ( *Commodities such as oild or gold usually offer protection from the effect of inflation*). Thus, commodities may offer protection against the negative effect of inflation .\n"
   ]
  },
  {
   "cell_type": "markdown",
   "metadata": {},
   "source": [
    "## Currencies and the Forex "
   ]
  },
  {
   "cell_type": "markdown",
   "metadata": {},
   "source": [
    "In finance an **exchange rate** is the rate at which one national currency will be exchanged for another\n",
    "\n",
    "It tells you how much a given currency worth in another currency\n",
    "\n",
    "*Governments and central banks can influence currencies and exchange rates*\n",
    "\n",
    "| Country       | Currency         | Code | Exchange Rate (USD) |\n",
    "|---------------|------------------|------|---------------------|\n",
    "| United States | US Dollar        | USD  | 1.0000              |\n",
    "| European Union| Euro             | EUR  | 0.8500              |\n",
    "| United Kingdom| British Pound    | GBP  | 0.7300              |\n",
    "| Japan         | Japanese Yen     | JPY  | 110.0000            |\n",
    "| Canada        | Canadian Dollar  | CAD  | 1.2100              |\n",
    "| Australia     | Australian Dollar| AUD  | 1.3000              |\n",
    "\n",
    "This concise table provides a snapshot of the current exchange rates for some of the world's major currencies, including the US Dollar (USD), Euro (EUR), British Pound (GBP), Japanese Yen (JPY), Canadian Dollar (CAD), and Australian Dollar (AUD). These currencies play a significant role in the foreign exchange (forex) market, as they are among the most traded and liquid currencies globally.The table is organized with the country, currency name, currency code, and exchange rate relative to the US Dollar. By presenting the data in a tabular format, users can quickly compare the value of one currency to another and assess the relative strength or weakness of a particular currency.It is essential to note that the forex market is constantly fluctuating due to various factors, including economic data releases, geopolitical events, and changes in monetary policy. As a result, exchange rates in this table may change over time and should be regularly updated to reflect the latest market conditions.To sum up, this table serves as a handy reference for individuals and businesses engaged in international trade, travel, or investment. Keeping track of these key exchange rates can provide valuable insights into the global economy and help inform financial decisions.\n",
    "\n",
    " <span style=\"color:red\">Why do exchange rates fluctuate ?</span>\n",
    " \n",
    " Exchange rates rise and fall due to the fluctuation of supply and demand. That is the reaon why the exchanged rates are usually very similar to a **Random Walk**. If more people want to buy a given currency then its market price will increase.\n",
    "\n",
    " Factors affecting exchange rates \n",
    " - Interest rates: is a major factor that can be manipulated by the central bank of a country. Investors will lend money to the banks of the given country for higher returns.\n",
    "\n",
    "- Money supply; created by the central bank by printing too much currency may trigger inflation. Investors do not like inflation so they will leave the currency that can push the value of a currency down.\n",
    "\n",
    "- Fincacial stability and economic growth of a give country have a huge impact on the value of the exchange rate.\n",
    "  \n",
    "  \n",
    "<span style=\"color:red\">What is Arbitrage ?</span>\n",
    "\n",
    "Arbitrage is making a sure profit in excess of the risk-free rate of return. In the language of quantitative finance we can say that an arbitrage opportunity is a portfolio of zero value today which is of positive value in the future with positive probability, and of negative value in the future with zero probability.\n",
    "The assumption that there are no arbitrage opportunities in the market is fundamental to classical finance theory. This idea is popularly known as ‘there’s no such thing as a free lunch.\n",
    "\n",
    "**Example**: An at-the-money European call option with a strike of $100 and an expiration of six months is worth $8. A European put with the same strike and expiration is worth $6. There are no dividends on the stock and a six-month zero-coupon bond with a principal of $100 is worth $97.\n",
    "\n",
    "Buy the call and a bond, sell the put and the stock, which will bring in $(−8−97+6+100)=$1. At expiration this portfolio will be worthless regardless of the final price of the stock. You will make a profit of $1 with no risk. This is arbitrage. \n",
    "\n",
    "*The principle of no arbitrage is one of the foundations of classical finance theory. In derivatives theory it is assumed during the derivation of the binomial model option-pricing algorithm and in the Black–Scholes model.*\n",
    "\n",
    "\n",
    "\n",
    "\n",
    "\n"
   ]
  },
  {
   "cell_type": "markdown",
   "metadata": {},
   "source": [
    "## Long and short positions"
   ]
  },
  {
   "cell_type": "markdown",
   "metadata": {},
   "source": [
    "**Long Position** in a security means that you owns the security. Investors maintain long positions in the expectation that the stock will increase in the value in the future. *Investors can make profit by maitaining a long position*\n",
    "\n",
    "**Short Position** in a security means that you sell the security.Investors maintain short positions in the expectation that the stock will decrease in the value in the future. *Investors can make profit by maitaining a short position*. Short selling meaning that you sell something you do not actually own\n",
    "\n",
    " <span style=\"color:red\"> What are the risks with Short and Long positions ?</span>\n",
    " - Shorting is **much risker** than opening long positions\n",
    " - When you open long position then you maximum possible loss is 100% so you may lose your entire initial investment\n",
    " - With short selling there is no limit to how much you can lose because there is no limit for the given stock to increase in value\n",
    "\n",
    " \n",
    "\n",
    "\n"
   ]
  },
  {
   "cell_type": "markdown",
   "metadata": {},
   "source": [
    "# Bond Theory\n",
    "\n",
    "Bond theory in finance refers to the principles and frameworks used to analyze and evaluate bonds as a form of investment. Bonds are debt securities issued by entities such as governments or corporations to raise capital. Investors who purchase bonds are essentially lending money to the issuer in exchange for periodic interest payments (known as the coupon) and the return of the principal (face value) at the end of the bond's term (maturity date).\n",
    "\n",
    "## Yields and yield to maturity\n",
    "Yield refers to the annual return on investment that an investor can expect to earn from holding a bond. It takes into account the bond's purchase price, face value, coupon payments, and time to maturity. It defines how much money your investment is generating $$\\frac{\\text{annual coupon amount} }{\\text{bond price} } $$\n",
    "\n",
    "The yield to maturity of a bond is the internal rate of return (overall interest rate) earned by an investor who buys thebond\n",
    "at **t** today at the **V** market price \n",
    "\n",
    "- We assume that the bond is held until **T** maturity.\n",
    "- all **$C_{i}$** coupons and **P** principal payments are made on schedule\n",
    "\n",
    "Therefore it is the yeild maturity **y** interest rate that will make the present value of the cash flows from the investment equal to the price(cost) of the investment\n",
    "$$\\text{v} =\\sum^{N}_{i=1} C_{i}e^{-y\\left( t_{i}-t\\right)  }\\  +\\  Pe^{-y(T-t)}$$\n",
    "\n",
    "- **v** is discounting everything back to the **t** present gives the current **v** price\n",
    "- $\\sum^{N}_{i=1}C_{i}e^{-y\\left( t_{i}-t\\right)  }$  : to calculate the present value of the $C_{i}$ coupon payments.\n",
    "- $ Pe^{-y(T-t)} $  : to calculate the $P$ present value of the pricipal amount.\n",
    "\n",
    "Longer bonds pays investors higher interest rate- investors expect more yield in return for loaning their money for a longer period of time\n",
    "\n",
    "\n",
    "\n",
    "\n",
    "\n",
    "\n"
   ]
  },
  {
   "cell_type": "markdown",
   "metadata": {},
   "source": [
    "## Interest rates and bonds \n",
    "Bonds and market interest rates are negatively correlated when the cost of borrowing money rises bond prices usually fall and vice-versa. Of course if the market interest rate is high enough than it better to lend money to the bank rather than buying bonds\n",
    "\n",
    "Coupon bonds and zero-coupon bonds are two types of bonds that differ in their payment structures. Here's an overview of each type and how to calculate their values:\n",
    "- Coupon Bond: is a debt security that pays periodic interest payments (coupons) to the bondholder throughout its term. The issuer also repays the face (par) value of the bond upon maturity.\n",
    "$$\\sum^{n}_{i=1} \\frac{c}{(1+r)^{i}} +\\frac{x}{(1+r)^{n}} $$\n",
    "- A zero-coupon bond is a debt security that does not pay any periodic interest payments. Instead, it is sold at a discount to its face value, and the bondholder receives the face value at maturity. The difference between the purchase price and the face value represents the interest earned on the bond:\n",
    "$$\\frac{x}{(1+r)^{n}} $$\n",
    "\n",
    "- c the present value of coupon payment\n",
    "- r interest rate\n",
    "- n maturity (years)\n"
   ]
  },
  {
   "cell_type": "markdown",
   "metadata": {},
   "source": [
    "## Bonds Implementation\n"
   ]
  },
  {
   "cell_type": "code",
   "execution_count": 3,
   "metadata": {},
   "outputs": [
    {
     "name": "stdout",
     "output_type": "stream",
     "text": [
      "Bond price: 1166.51\n"
     ]
    }
   ],
   "source": [
    "\n",
    "class CouponBond:\n",
    "\n",
    "    def __init__(self, principal, rate, maturity, interest_rate):\n",
    "        self.principal = principal\n",
    "        self.rate = rate / 100\n",
    "        self.maturity = maturity\n",
    "        self.interest_rate = interest_rate / 100\n",
    "\n",
    "    def present_value(self, x, n):\n",
    "        return x / (1+self.interest_rate)**n\n",
    "\n",
    "    def calculate_price(self):\n",
    "\n",
    "        price = 0\n",
    "\n",
    "        # discount the coupon payments\n",
    "        for t in range(1, self.maturity+1):\n",
    "            price = price + self.present_value(self.principal * self.rate, t)\n",
    "\n",
    "        # discount principle amount\n",
    "        price = price + self.present_value(self.principal, self.maturity)\n",
    "\n",
    "        return price\n",
    "\n",
    "\n",
    "if __name__ == '__main__':\n",
    "\n",
    "    bond = CouponBond(1000, 10, 3, 4)\n",
    "    print(\"Bond price: %.2f\" % bond.calculate_price())"
   ]
  },
  {
   "cell_type": "markdown",
   "metadata": {},
   "source": [
    "# Markowitz-Model (Modern Portfolio Theory)\n",
    "\n",
    "### <span style=\"color:red\"> Definition</span>\n",
    "The Markowitz Model, also known as Modern Portfolio Theory (MPT) or Mean-Variance Optimization, is an investment model developed by Harry Markowitz in 1952. It is a mathematical framework that aims to maximize the expected return of a portfolio for a given level of risk, or equivalently, minimize risk for a given level of expected return. The model assumes that investors are rational and risk-averse, and that their investment decisions are solely based on the expected return and risk of the assets\n",
    "\n",
    " ### <span style=\"color:red\"> Example</span>\n",
    "Should you put all your money in a stock that has low risk\n",
    "but also low expected return, or one with high expected\n",
    "return but which is far riskier? Or perhaps divide your\n",
    "money between the two. Modern Portfolio Theory addresses\n",
    "this question and provides a framework for quantifying and\n",
    "understanding risk and return.\n",
    "\n",
    "### <span style=\"color:red\"> Explanation</span>\n",
    "In MPT the return on individual assets are represented by normal distributions with certain mean and standard devi- ation over a specified period. So one asset might have an annualized expected return of 5% and an annualized standard deviation (volatility) of 15%. Another might have an expected return of −2% and a volatility of 10%. Before Markowitz, one would only have invested in the first stock, or perhaps sold the second stock short. Markowitz showed how it might be possible to better both of these simplistic portfolios by taking into account the correlation between the returns on these stocks.\n",
    "\n",
    "In the MPT world of N assets there are $2N+\\frac{N(N-1)}{2} $ parameters: expected return, one per stock; standard deviation, one per stock; correlations, between any two stocks (choose two from N without replacement, order unimportant). To Markowitz all investments and all portfolios should be compared and contrasted via a plot of expected return versus risk, as measured by standard deviation. If we write $\\mu_{A} $ to represent the expected return from investment or portfolio A (and similarly for B, C, etc.) and $\\sigma_{B}$ for its standard deviation then investment/portfolio A is at least as good as B if\n",
    "$$\\mu_{A} \\geq \\mu_{B} \\  \\text{and} \\  \\sigma_{A} \\leq \\sigma_{B}   $$\n",
    "\n",
    "\n",
    "\n",
    "The mathematics of risk and return is very simple. Consider a portfolio, $\\prod $, of $N$ assets, with $W_i$ the fraction of wealth invested in the $i^{th}$ asset. The expected return is then\n",
    "\n",
    "$$\\mu_{\\prod } =\\sum^{N}_{i=1} W_{i}\\mu_{i} $$\n",
    "\n",
    "and the standard deviation of the return, the risk, is\n",
    "\n",
    "$$\\sigma_{\\Pi } =\\sqrt{\\sum^{N}_{i=1} \\sum^{N}_{j=1} W_{i}W_{j}\\rho_{ij} \\sigma_{i} \\sigma_{j} } $$\n",
    "\n",
    "where $\\rho_{ij}$ is the correlation between the $i^{th}$ and $j^{th}$ investments, with $\\rho_{ij}=1$"
   ]
  },
  {
   "cell_type": "markdown",
   "metadata": {},
   "source": [
    "Markowitz showed how to optimize a portfolio by finding the $W’s$ giving the portfolio the greatest expected return for a prescribed level of risk. The curve in the risk-return space with the largest expected return for each level of risk is called the **efficient frontier**."
   ]
  },
  {
   "cell_type": "markdown",
   "metadata": {},
   "source": [
    "## <span style=\"color:red\"> Markowitz-Model Implementation</span>"
   ]
  },
  {
   "cell_type": "code",
   "execution_count": 4,
   "metadata": {},
   "outputs": [
    {
     "data": {
      "image/png": "[encoded data removed]",
      "text/plain": [
       "<Figure size 720x360 with 1 Axes>"
      ]
     },
     "metadata": {
      "needs_background": "light"
     },
     "output_type": "display_data"
    },
    {
     "data": {
      "image/png": "[encoded data removed]",
      "text/plain": [
       "<Figure size 720x432 with 2 Axes>"
      ]
     },
     "metadata": {
      "needs_background": "light"
     },
     "output_type": "display_data"
    }
   ],
   "source": [
    "import numpy as np\n",
    "import yfinance as yf\n",
    "import pandas as pd\n",
    "import matplotlib.pyplot as plt\n",
    "import scipy.optimize as optimization\n",
    "\n",
    "# on average there are 252 trading days in a year\n",
    "NUM_TRADING_DAYS = 252\n",
    "# we will generate random w (different portfolios)\n",
    "NUM_PORTFOLIOS = 10000\n",
    "\n",
    "# stocks we are going to handle\n",
    "stocks = ['AAPL', 'WMT', 'TSLA', 'GE', 'AMZN', 'DB']\n",
    "\n",
    "# historical data - define START and END dates\n",
    "start_date = '2010-01-01'\n",
    "end_date = '2017-01-01'\n",
    "\n",
    "\n",
    "def download_data():\n",
    "    # name of the stock (key) - stock values (2010-1017) as the values\n",
    "    stock_data = {}\n",
    "\n",
    "    for stock in stocks:\n",
    "        # closing prices\n",
    "        ticker = yf.Ticker(stock)\n",
    "        stock_data[stock] = ticker.history(start=start_date, end=end_date)['Close']\n",
    "\n",
    "    return pd.DataFrame(stock_data)\n",
    "\n",
    "\n",
    "def show_data(data):\n",
    "    data.plot(figsize=(10, 5))\n",
    "    plt.show()\n",
    "\n",
    "\n",
    "def calculate_return(data):\n",
    "    # NORMALIZATION - to measure all variables in comparable metric\n",
    "    log_return = np.log(data / data.shift(1))\n",
    "    return log_return[1:]\n",
    "\n",
    "\n",
    "def show_statistics(returns):\n",
    "    # instead of daily metrics we are after annual metrics\n",
    "    # mean of annual return\n",
    "    print(returns.mean() * NUM_TRADING_DAYS)\n",
    "    print(returns.cov() * NUM_TRADING_DAYS)\n",
    "\n",
    "\n",
    "def show_mean_variance(returns, weights):\n",
    "    # we are after the annual return\n",
    "    portfolio_return = np.sum(returns.mean() * weights) * NUM_TRADING_DAYS\n",
    "    portfolio_volatility = np.sqrt(np.dot(weights.T, np.dot(returns.cov()\n",
    "                                                            * NUM_TRADING_DAYS, weights)))\n",
    "    print(\"Expected portfolio mean (return): \", portfolio_return)\n",
    "    print(\"Expected portfolio volatility (standard deviation): \", portfolio_volatility)\n",
    "\n",
    "\n",
    "def show_portfolios(returns, volatilities):\n",
    "    plt.figure(figsize=(10, 6))\n",
    "    plt.scatter(volatilities, returns, c=returns / volatilities, marker='o')\n",
    "    plt.grid(True)\n",
    "    plt.xlabel('Expected Volatility')\n",
    "    plt.ylabel('Expected Return')\n",
    "    plt.colorbar(label='Sharpe Ratio')\n",
    "    plt.show()\n",
    "\n",
    "\n",
    "def generate_portfolios(returns):\n",
    "    portfolio_means = []\n",
    "    portfolio_risks = []\n",
    "    portfolio_weights = []\n",
    "\n",
    "    for _ in range(NUM_PORTFOLIOS):\n",
    "        w = np.random.random(len(stocks))\n",
    "        w /= np.sum(w)\n",
    "        portfolio_weights.append(w)\n",
    "        portfolio_means.append(np.sum(returns.mean() * w) * NUM_TRADING_DAYS)\n",
    "        portfolio_risks.append(np.sqrt(np.dot(w.T, np.dot(returns.cov()\n",
    "                                                          * NUM_TRADING_DAYS, w))))\n",
    "\n",
    "    return np.array(portfolio_weights), np.array(portfolio_means), np.array(portfolio_risks)\n",
    "\n",
    "\n",
    "def statistics(weights, returns):\n",
    "    portfolio_return = np.sum(returns.mean() * weights) * NUM_TRADING_DAYS\n",
    "    portfolio_volatility = np.sqrt(np.dot(weights.T, np.dot(returns.cov()\n",
    "                                                            * NUM_TRADING_DAYS, weights)))\n",
    "    return np.array([portfolio_return, portfolio_volatility,\n",
    "                     portfolio_return / portfolio_volatility])\n",
    "\n",
    "\n",
    "# scipy optimize module can find the minimum of a given function\n",
    "# the maximum of a f(x) is the minimum of -f(x)\n",
    "def min_function_sharpe(weights, returns):\n",
    "    return -statistics(weights, returns)[2]\n",
    "\n",
    "\n",
    "# what are the constraints? The sum of weights = 1 !!!\n",
    "# f(x)=0 this is the function to minimize\n",
    "def optimize_portfolio(weights, returns):\n",
    "    # the sum of weights is 1\n",
    "    constraints = ({'type': 'eq', 'fun': lambda x: np.sum(x) - 1})\n",
    "    # the weights can be 1 at most: 1 when 100% of money is invested into a single stock\n",
    "    bounds = tuple((0, 1) for _ in range(len(stocks)))\n",
    "    return optimization.minimize(fun=min_function_sharpe, x0=weights[0], args=returns\n",
    "                                 , method='SLSQP', bounds=bounds, constraints=constraints)\n",
    "\n",
    "\n",
    "def print_optimal_portfolio(optimum, returns):\n",
    "    print(\"Optimal portfolio: \", optimum['x'].round(3))\n",
    "    print(\"Expected return, volatility and Sharpe ratio: \",\n",
    "          statistics(optimum['x'].round(3), returns))\n",
    "\n",
    "\n",
    "def show_optimal_portfolio(opt, rets, portfolio_rets, portfolio_vols):\n",
    "    plt.figure(figsize=(10, 6))\n",
    "    plt.scatter(portfolio_vols, portfolio_rets, c=portfolio_rets / portfolio_vols, marker='o')\n",
    "    plt.grid(True)\n",
    "    plt.xlabel('Expected Volatility')\n",
    "    plt.ylabel('Expected Return')\n",
    "    plt.colorbar(label='Sharpe Ratio')\n",
    "    plt.plot(statistics(opt['x'], rets)[1], statistics(opt['x'], rets)[0], 'g*', markersize=20.0)\n",
    "    plt.show()\n",
    "\n",
    "\n",
    "if __name__ == '__main__':\n",
    "    dataset = download_data()\n",
    "    show_data(dataset)\n",
    "    log_daily_returns = calculate_return(dataset)\n",
    "    # show_statistics(log_daily_returns)\n",
    "\n",
    "    pweights, means, risks = generate_portfolios(log_daily_returns)\n",
    "    show_portfolios(means, risks)\n",
    "    optimum = optimize_portfolio(pweights, log_daily_returns)"
   ]
  },
  {
   "cell_type": "markdown",
   "metadata": {},
   "source": [
    "The dots represent different **w** weights of a given portfolio containing multiple stocks (So different porfolios ). \n",
    "\n",
    "The investor interested in \n",
    "- The maximum return (means) given a fixed risk level (so volatility)\n",
    "- Minimum risk given a fixed return\n",
    "\n",
    "These portfolios make up the so-called ** efficient -frontier**. This is the main feature of **Markowitz model** the investor can decide the risk of the expected return"
   ]
  },
  {
   "cell_type": "markdown",
   "metadata": {},
   "source": [
    "# Capital Asset Pricing Model"
   ]
  },
  {
   "cell_type": "markdown",
   "metadata": {},
   "source": [
    "### <span style=\"color:red\"> Definition</span>\n",
    "**The Capital Asset Pricing Model (CAPM)** relates the returns on individual assets or entire portfolios to the return on the market as a whole. It introduces the concepts of specific risk and systematic risk. **Specific risk** is unique to an individual asset, systematic risk is that associated with the market. In CAPM investors are compensated for taking **systematic risk** but not for taking specific risk. This is because specific risk can be diversified away by holding many different assets.\n",
    "\n",
    "\n",
    " ### <span style=\"color:red\"> Example</span>\n",
    "A stock has an expected return of 15% and a volatility of 20%. But how much of that risk and return are related to the market as a whole? The less that can be attributed to the behaviour of the market, the better will that stock be for diversification purposes.\n",
    "\n",
    "### <span style=\"color:red\"> Explanation</span>\n",
    "CAPM simultaneously simplified Markowitz’s **Modern Portfolio Theory (MPT)**, made it more practical and introduced the idea of specific and systematic risk. Whereas MPT has arbitrary correlation between all investments, **CAPM**, in its basic form, only links investments via the market as a whole. CAPM is an example of an equilibrium model, as opposed to a no-arbitrage model such as **Black–Scholes**.\n",
    "\n",
    "The mathematics of CAPM is very simple. We relate the random return on the ith investment, $R_i$, to the random return on the market as a whole (or some representative index),$R_M$ by\n",
    "$$R_{i}=\\alpha_{i} +\\beta_{i} R_{M}+\\varepsilon_{i}   $$\n",
    "\n",
    "The $\\varepsilon_{i}$ is random with zero mean and standard deviation $e_i$ and uncorrelated with the market return $R_M$ and the other $e_j$. There are three parameters associated with each asset $\\alpha_{i}$, $\\beta_{i}$ and $e_i$. In this representation we can see that the return on an asset can be decomposed into three parts: a constant drift; a random part common with the index; a random part uncorrelated with the index,$\\varepsilon_{i}$. The random part $\\varepsilon_{i}$ is unique to the ith asset. Notice how all the assets are related to the index but are otherwise completely uncorrelated\n",
    "\n"
   ]
  },
  {
   "cell_type": "code",
   "execution_count": 5,
   "metadata": {},
   "outputs": [],
   "source": [
    "import numpy as np\n",
    "import pandas as pd\n",
    "import yfinance as yf\n",
    "import matplotlib.pyplot as plt\n"
   ]
  },
  {
   "cell_type": "code",
   "execution_count": 6,
   "metadata": {},
   "outputs": [],
   "source": [
    "# market interest rate\n",
    "RISK_FREE_RATE = 0.05\n",
    "# we will consider monthly returns - and we want to calculate the annual return\n",
    "MONTHS_IN_YEAR = 12"
   ]
  },
  {
   "cell_type": "code",
   "execution_count": 7,
   "metadata": {},
   "outputs": [],
   "source": [
    "class CAPM:\n",
    "\n",
    "    def __init__(self, stocks, start_date, end_date):\n",
    "        self.data = None\n",
    "        self.stocks = stocks\n",
    "        self.start_date = start_date\n",
    "        self.end_date = end_date\n",
    "\n",
    "    def download_data(self):\n",
    "        data = {}\n",
    "\n",
    "        for stock in self.stocks:\n",
    "            ticker = yf.download(stock, self.start_date, self.end_date)\n",
    "            data[stock] = ticker['Adj Close']\n",
    "\n",
    "        return pd.DataFrame(data)\n",
    "\n",
    "    def initialize(self):\n",
    "        stock_data = self.download_data()\n",
    "        # we use monthly returns instead of daily returns\n",
    "        stock_data = stock_data.resample('M').last()\n",
    "\n",
    "        self.data = pd.DataFrame({'s_adjclose': stock_data[self.stocks[0]],\n",
    "                                  'm_adjclose': stock_data[self.stocks[1]]})\n",
    "\n",
    "        # logarithmic monthly returns\n",
    "        self.data[['s_returns', 'm_returns']] = np.log(self.data[['s_adjclose', 'm_adjclose']] /\n",
    "                                                       self.data[['s_adjclose', 'm_adjclose']].shift(1))\n",
    "\n",
    "        # remove the NaN values\n",
    "        self.data = self.data[1:]\n",
    "\n",
    "    def calculate_beta(self):\n",
    "        # covariance matrix: the diagonal items are the variances\n",
    "        # off diagonals are the covariances\n",
    "        # the matrix is symmetric: cov[0,1] = cov[1,0] !!!\n",
    "        covariance_matrix = np.cov(self.data[\"s_returns\"], self.data[\"m_returns\"])\n",
    "        # calculating beta according to the formula\n",
    "        beta = covariance_matrix[0, 1] / covariance_matrix[1, 1]\n",
    "        print(\"Beta from formula: \", beta)\n",
    "\n",
    "    def regression(self):\n",
    "        # using linear regression to fit a line to the data\n",
    "        # [stock_returns, market_returns] - slope is the beta\n",
    "        beta, alpha = np.polyfit(self.data['m_returns'], self.data['s_returns'], deg=1)\n",
    "        print(\"Beta from regression: \", beta)\n",
    "        # calculate the expected return according to the CAPM formula\n",
    "        # we are after annual return (this is why multiply by 12)\n",
    "        expected_return = RISK_FREE_RATE + beta * (self.data['m_returns'].mean()*MONTHS_IN_YEAR\n",
    "                                                   - RISK_FREE_RATE)\n",
    "        print(\"Expected return: \", expected_return)\n",
    "        self.plot_regression(alpha, beta)\n",
    "\n",
    "    def plot_regression(self, alpha, beta):\n",
    "        fig, axis = plt.subplots(1, figsize=(20, 10))\n",
    "        axis.scatter(self.data[\"m_returns\"].to_numpy(), self.data['s_returns'].to_numpy(),\n",
    "                     label=\"Data Points\")\n",
    "        axis.plot(self.data[\"m_returns\"].to_numpy(), beta * self.data[\"m_returns\"].to_numpy() + alpha,\n",
    "                  color='red', label=\"CAPM Line\")\n",
    "        plt.title('Capital Asset Pricing Model, finding alpha and beta')\n",
    "        plt.xlabel('Market return $R_m$', fontsize=18)\n",
    "        plt.ylabel('Stock return $R_a$')\n",
    "        plt.text(0.08, 0.05, r'$R_a = \\beta * R_m + \\alpha$', fontsize=18)\n",
    "        plt.legend()\n",
    "        plt.grid(True)\n",
    "        plt.show()\n",
    "\n",
    "\n"
   ]
  },
  {
   "cell_type": "code",
   "execution_count": 8,
   "metadata": {},
   "outputs": [
    {
     "name": "stdout",
     "output_type": "stream",
     "text": [
      "[*********************100%***********************]  1 of 1 completed\n",
      "[*********************100%***********************]  1 of 1 completed\n",
      "Beta from formula:  0.7135097171981648\n",
      "Beta from regression:  0.7135097171981654\n",
      "Expected return:  0.09011312101583244\n"
     ]
    },
    {
     "data": {
      "image/png": "[encoded data removed]",
      "text/plain": [
       "<Figure size 1440x720 with 1 Axes>"
      ]
     },
     "metadata": {
      "needs_background": "light"
     },
     "output_type": "display_data"
    }
   ],
   "source": [
    "if __name__ == '__main__':\n",
    "    capm = CAPM(['IBM', '^GSPC'], '2010-01-01', '2017-01-01')\n",
    "    capm.initialize()\n",
    "    capm.calculate_beta()\n",
    "    capm.regression()\n"
   ]
  },
  {
   "cell_type": "markdown",
   "metadata": {},
   "source": [
    "# Random Behavior in Finance"
   ]
  },
  {
   "cell_type": "markdown",
   "metadata": {},
   "source": [
    "## Types of Analysis\n",
    "\n",
    "There are three main types of analysis which as fundamental analysis, there is technical analysis and finally, quantitative analysis.\n",
    "\n",
    "- <span style=\"color:red\"> Fundamental analysis</span> is about the in-depth study of a given company.\n",
    "There are several factors to consider\n",
    "such as the management teams, products and services, balance sheets, income statements\n",
    "and ...We try to predict by analyzing these factors whether the stock is undervalued or not\n",
    "based on the intrinsic value of the company.So, for example, if we are using machine learning approaches, for example, logistic\n",
    "regression or support vector classifiers or deep neural networks, basically we are analysing\n",
    "historical data. We are looking for patterns in the past that will repeat themselves in the future.\n",
    "And if we come to the conclusion that the same pattern, then we can make a prediction based on historical data what's going to happen in the future.\n",
    "\n",
    "-  <span style=\"color:red\"> Technical analysis</span> which is the opposite of fundamental analysis.\n",
    "This approach doesn't care about the company.\n",
    "It assumes that all the information is contained within its stock.\n",
    "So technical analysis is about analyzing historical data.\n",
    "\n",
    "<span style=\"color:red\"> Quantitative analysis</span> has an assuption: all finacial quantities such as stock price or interest rates have random behavior.We have to use **randomness** in our models so stochastic caculus and stochastic differential equations are needed. So, for example, the famous **Black-Scholes model** is a typical quantitative analysis\n",
    "related approach where we use stochastic differential equations and we assume random behavior of\n",
    "stock prices in order to calculate the value of a given option. And it is working quite fine."
   ]
  },
  {
   "cell_type": "markdown",
   "metadata": {},
   "source": [
    "## Random behavior"
   ]
  },
  {
   "cell_type": "markdown",
   "metadata": {},
   "source": [
    "<span style=\"color:red\"> why we have to include randomness in our model ?</span>\n",
    "\n",
    "By analyzing the so-called daily returns.The daily return is the stock price to day minus the stock price yesterday divided by the stock price yesterday.\n",
    "$$\\frac{S(t)-S(t-1)}{S(t-1)} =R(t)$$"
   ]
  },
  {
   "cell_type": "code",
   "execution_count": 9,
   "metadata": {},
   "outputs": [
    {
     "name": "stdout",
     "output_type": "stream",
     "text": [
      "[*********************100%***********************]  1 of 1 completed\n"
     ]
    },
    {
     "data": {
      "image/png": "[encoded data removed]",
      "text/plain": [
       "<Figure size 432x288 with 1 Axes>"
      ]
     },
     "metadata": {
      "needs_background": "light"
     },
     "output_type": "display_data"
    }
   ],
   "source": [
    "import yfinance as yf\n",
    "import pandas as pd\n",
    "import matplotlib.pyplot as plt\n",
    "\n",
    "# Fetch stock data from Yahoo Finance\n",
    "ticker = 'AAPL'\n",
    "start_date = '2020-01-01'\n",
    "end_date = '2021-12-31'\n",
    "\n",
    "stock_data = yf.download(ticker, start=start_date, end=end_date)\n",
    "\n",
    "# Calculate daily returns\n",
    "stock_data['Daily_Return'] = (stock_data['Close'] - stock_data['Close'].shift(1)) / stock_data['Close'].shift(1)\n",
    "\n",
    "# Drop missing values\n",
    "stock_data.dropna(inplace=True)\n",
    "\n",
    "# Plot histogram of daily returns\n",
    "plt.hist(stock_data['Daily_Return'], bins=50, alpha=0.75, edgecolor='black')\n",
    "plt.xlabel('Daily Return')\n",
    "plt.ylabel('Frequency')\n",
    "plt.title(f'Daily Return Histogram for {ticker}')\n",
    "\n",
    "plt.show()\n"
   ]
  },
  {
   "cell_type": "markdown",
   "metadata": {},
   "source": [
    "And as you can see, the histogram is very, very similar to a normal distribution with\n",
    "mean zero. And of course, we have a given standard deviation or variance.\n",
    "So as we have seen the daily returns and by the way, this is the case when dealing\n",
    "with monthly returns as well, have approximately normal distributions.\n",
    "\n",
    "Normal distributions can be defined by two parameters,a $\\mu $ mean and the $\\sigma^{2} $ variance.\n",
    "\n",
    "Therefore, the **daily return** can be defined with these parameters (mean and variance):\n",
    "$$R(t)=\\  mean\\  +C\\  \\times \\  standard\\  deviation$$\n",
    "\n",
    "Where we can see that we have a so-called deterministic part which is the mean and we have the stochastic part which is the constant times the deviation. \n",
    "\n",
    "Thus we can define return as a random variable drawn from a normal distribution\n",
    "\n",
    "So, for example, if we want to get the stock price tomorrow, of course, we know the\n",
    "stock price today $S(t)$, which means that we know capital assets.Then the asset price tomorrow $S(t+1)$ is a random variable drawn from a normal distribution.\n",
    "\n",
    "So this is why we can use the same approach when dealing with stock prices, not just\n",
    "daily returns, but if we want to model the fluctuations of a given stock price so stock price can be\n",
    "described with the help of a so-called random walk $W(t)$ or the so-called Wiener process where $W(t)$ has continous sample path and it has independently distributued increments\n"
   ]
  },
  {
   "cell_type": "markdown",
   "metadata": {},
   "source": [
    "# Wiener Process and Random Walk\n",
    "The Wiener process and random walk are both mathematical concepts used to model stochastic processes, which are random processes evolving over time. They are related but have some differences\n",
    "\n",
    "<span style=\"color:red\"> Wiener Process:</span>: A Wiener process, also known as Brownian motion, is a continuous-time stochastic process that has the following properties:\n",
    "\n",
    "- It starts at zero: $W(0) = 0$.\n",
    "- -It has independent increments: The change in the process over non-overlapping intervals is independent.\n",
    "- It has normally distributed increments: The change in the process over a time interval follows a normal distribution with mean 0 and variance proportional to the length of the interval $\\left[ W(t)-W(s)\\approx N(0,t-s)\\right]  $ this is the Gaussian increaments\n",
    "- It has continuous paths: The process is continuous in time, meaning there are no jumps or discontinuities in the path.\n",
    "\n",
    "The Wiener process is widely used in finance, particularly in the Black-Scholes option pricing model and geometric Brownian motion for simulating stock prices.\n",
    "\n",
    "<span style=\"color:red\"> Random Walk:</span>: A random walk is a discrete-time stochastic process, where the value of the process at each time step is determined by a random variable. In the simplest form, a random walk can be represented as:\n",
    "$$X(t+1)=X(t)+\\varepsilon (t)$$\n",
    "\n",
    "- Here, $X(t)$ is the value of the process at time $t$, and $\\varepsilon (t)$ is a random variable representing the change in the process from time $t$ to time $t+1$.\n",
    "\n",
    "- There are various types of random walks, such as symmetric random walks, where the probability of moving up or down is equal, and random walks with drift, where there's a tendency to move in a particular direction.\n",
    "\n"
   ]
  },
  {
   "cell_type": "markdown",
   "metadata": {},
   "source": [
    "A random walk can be seen as a discrete version of the Wiener process when the increments $\\varepsilon (t)$ are independent and normally distributed. In this case, the random walk can be approximated by a Wiener process as the time steps become smaller."
   ]
  },
  {
   "cell_type": "markdown",
   "metadata": {},
   "source": [
    "And this is why we can come to the conclusion that stock prices follow a so-called\n",
    "normal distribution.\n",
    "In probability theory, a normal distribution is a continuous probability distribution of a\n",
    "random variable\n",
    "whose logarithm is normally distributed, which means that if we take the natural\n",
    "logarithm of stock\n",
    "prices, that these values are normally distributed.\n",
    "So if the random variable $X$ acts is normally distributed, then $Y=ln(X)$"
   ]
  },
  {
   "cell_type": "markdown",
   "metadata": {},
   "source": [
    "### The Stochastic Differential Equation\n",
    "The stochastic differential equation (SDE) is a type of differential equation that involves one or more random variables, which represent the effects of uncertainty on the system's evolution. In finance, SDEs are commonly used to model the behavior of stock prices, interest rates, and other financial variables.\n",
    "\n",
    "For instance, one of the most well-known SDEs used in finance is the Geometric Brownian Motion (GBM) model, which is used to describe the evolution of stock prices. The GBM is given by the following stochastic differential equation:\n",
    "\n",
    "$$dS=\\mu S\\text{dt} +\\sigma S\\text{dW} $$\n",
    "\n",
    "$\\text{dW}$ is a random  variable drawn from a normal distribution with mean $0$ and variance $dt$\n",
    "- $dS$ is the $S(t+dt)-S(t)$ change the stock price \n",
    "- $\\mu S\\text{dt} $ deterministic part- the drift\n",
    "- $\\sigma S\\text{dW} $ stochastic part with Wiener-process\n",
    "\n",
    "This is contious model of asset price ad the fundamental assumption for most of the modern financial model"
   ]
  },
  {
   "cell_type": "markdown",
   "metadata": {},
   "source": [
    "### Wiener-process implementation"
   ]
  },
  {
   "cell_type": "code",
   "execution_count": 10,
   "metadata": {},
   "outputs": [
    {
     "data": {
      "image/png": "[encoded data removed]",
      "text/plain": [
       "<Figure size 432x288 with 1 Axes>"
      ]
     },
     "metadata": {
      "needs_background": "light"
     },
     "output_type": "display_data"
    }
   ],
   "source": [
    "import numpy.random as npr\n",
    "import numpy as np\n",
    "import matplotlib.pyplot as plt\n",
    "\n",
    "\n",
    "def wiener_process(dt=0.5, x0=0, n=1000):\n",
    "\n",
    "    # W(t=0)=0\n",
    "    # initialize W(t) with zeros\n",
    "    W = np.zeros(n+1)\n",
    "\n",
    "    # we create N+1 timesteps: t=0,1,2,3...N\n",
    "    t = np.linspace(x0, n, n+1)\n",
    "\n",
    "    # we have to use cumulative sum: on every step the additional value is\n",
    "    # drawn from a normal distribution with mean 0 and variance dt ... N(0,dt)\n",
    "    # by the way: N(0,dt) = sqrt(dt)*N(0,1) usually this formula is used !!!\n",
    "    W[1:n+1] = np.cumsum(np.random.normal(0, np.sqrt(dt), n))\n",
    "\n",
    "    return t, W\n",
    "\n",
    "\n",
    "def plot_process(t, W):\n",
    "    plt.plot(t, W)\n",
    "    plt.xlabel('Time(t)')\n",
    "    plt.ylabel('Wiener-process W(t)')\n",
    "    plt.title('Wiener-process')\n",
    "    plt.show()\n",
    "\n",
    "\n",
    "if __name__ == '__main__':\n",
    "    time, data = wiener_process()\n",
    "    plot_process(time, data)"
   ]
  },
  {
   "cell_type": "markdown",
   "metadata": {},
   "source": [
    "<span style=\"color:red\"> What is Itô’s Lemma ? </span>\n",
    "\n",
    "Itô’s Lemma is a theorem in stochastic calculus. It tells you that if you have a random walk, in y, say, and a function of that randomly walking variable, call it $f(y, t)$, then you can\n",
    "easily write an expression for the random walk in $f$. A function of a random variable is itself random in general.\n",
    "\n",
    "**Example** The obvious example concerns the random walk\n",
    "$$dS=\\mu S\\text{dt} +\\sigma S\\text{dW} $$\n",
    "\n",
    "commonly used to model an equity price or exchange rate, $S$. What is the stochastic differential equation for the logarithm of $S, lnS$?\n",
    "\n",
    "$$d(lnS)=(\\mu -\\frac{1}{2} \\sigma^{2} )dt+\\sigma dX$$"
   ]
  },
  {
   "cell_type": "markdown",
   "metadata": {},
   "source": [
    "<span style=\"color:green\"> Stochastic Calculus: The solution of geometric random vork stochastic differential equation  </span>\n",
    "$$S(t)=S(0)e^{\\left( \\mu -\\frac{1}{2} \\sigma^{2} \\right)  t+\\sigma W_{t}}$$\n",
    "is used to model stock prices using geometric Brownian motion (GBM), which is a continuous-time stochastic process. In the equation:\n",
    "- $S(t)$ represents the stock price at time t.\n",
    "- $S(0)$ represents the initial stock price at time 0.\n",
    "- $\\mu$ represents the drift, which is the expected return of the stock.\n",
    "- $\\sigma$ (sigma) represents the volatility, which is the standard deviation of the stock's returns.\n",
    "- $W_t$ represents the Wiener process (Brownian motion) at time t.\n",
    "- $exp(x)$ is the exponential function, e^x.\n",
    "\n",
    "The GBM model is based on the assumption that the stock prices follow a **log-normal distribution**, and it incorporates both the drift (trend) and the random fluctuations (volatility) of the stock price. The drift term $\\left( \\mu -\\frac{1}{2} \\sigma^{2} \\right)  t$ captures the average growth of the stock price over time, while the stochastic term $\\sigma W_{t}$ captures the random fluctuations in the price."
   ]
  },
  {
   "cell_type": "markdown",
   "metadata": {},
   "source": [
    "### Geometric Brownian Motion implementation"
   ]
  },
  {
   "cell_type": "code",
   "execution_count": 11,
   "metadata": {},
   "outputs": [
    {
     "data": {
      "image/png": "[encoded data removed]",
      "text/plain": [
       "<Figure size 432x288 with 1 Axes>"
      ]
     },
     "metadata": {
      "needs_background": "light"
     },
     "output_type": "display_data"
    }
   ],
   "source": [
    "import matplotlib.pyplot as plt\n",
    "import numpy as np\n",
    "\n",
    "\n",
    "def simulate_geometric_random_walk(S0, T=2, N=1000, mu=0.1, sigma=0.05):\n",
    "\n",
    "    dt = T/N\n",
    "    t = np.linspace(0, T, N)\n",
    "    # standard normal distribution N(0,1)\n",
    "    W = np.random.standard_normal(size=N)\n",
    "    # N(0,dt) = sqrt(dt) * N(0,1)\n",
    "    W = np.cumsum(W) * np.sqrt(dt)\n",
    "    X = (mu - 0.5 * sigma ** 2) * t + sigma * W\n",
    "    S = S0 * np.exp(X)\n",
    "\n",
    "    return t, S\n",
    "\n",
    "\n",
    "def plot_simulation(t, S):\n",
    "    plt.plot(t, S)\n",
    "    plt.xlabel('Time (t)')\n",
    "    plt.ylabel('Stock Price S(t)')\n",
    "    plt.title('Geometric Brownian Motion')\n",
    "    plt.show()\n",
    "\n",
    "\n",
    "if __name__ == '__main__':\n",
    "\n",
    "    time, data = simulate_geometric_random_walk(1)\n",
    "    plot_simulation(time, data)\n"
   ]
  },
  {
   "cell_type": "markdown",
   "metadata": {},
   "source": [
    "# Black-Scholes Model"
   ]
  },
  {
   "cell_type": "markdown",
   "metadata": {},
   "source": [
    "The Black–Scholes equation is a differential equation for the value of an option as a function of the underlying asset and time.\n",
    "\n",
    "The model is based on the assumption that the underlying asset's price follows a geometric Brownian motion, which is characterized by a constant drift and volatility.\n",
    "\n",
    "The model aims to calculate the fair value of an option, considering factors like the current stock price, the option's strike price, the time until expiration, the risk-free interest rate, and the underlying stock's volatility.\n",
    "\n",
    "The key equation in the Black-Scholes model is the Black-Scholes partial differential equation, which can be solved to obtain the option price. The Black-Scholes formula for a European call option (the right to buy an asset at a specified price) is:\n",
    "\n",
    "$$\\frac{\\partial V}{\\partial t} +\\frac{1}{2} \\sigma^{2} S^{2}\\frac{\\partial^{2} V}{\\partial S^{2}} +rS\\frac{\\partial V}{\\partial S} -rV=0$$\n",
    "where $V(S,t)$ is the option value as a function of asset price\n",
    "$S$ and time $t$.\n"
   ]
  },
  {
   "cell_type": "markdown",
   "metadata": {},
   "source": [
    "<span style=\"color:red\"> Facts about the Black–Scholes equation:  </span>"
   ]
  },
  {
   "cell_type": "markdown",
   "metadata": {},
   "source": [
    "- The equation follows from certain assumptions and from a mathematical and financial argument that involves hedging.\n",
    "- The equation is linear and homogeneous (we say ‘there is no right-hand side,’ i.e. no non-V terms) so that you can value a portfolio of derivatives by summing the values of the individual contracts.\n",
    "- It is a partial differential equation because it has more than one independent variable, here S and t.\n",
    "- It is of parabolic type, meaning that one of the variables, $t$, only has a first-derivative term, and the other $S$ has a second-derivative term.\n",
    "- It is of backward type, meaning that you specify a final condition representing the option payoff at expiry and then solve backwards in time to get the option value now. You can tell it’s backward by looking at the sign of the $t-$derivative term and the second $S-$derivative term, when on the same side of the equals sign they are both the same sign. If they were of opposite signs then it would be a forward equation.\n",
    "The equation is an example of a diffusion equation or heat equation. Such equations have been around for nearly two hundred years and have been used to model all sorts of physical phenomena.\n",
    "- The equation requires specification of two parameters, the risk-free interest rate and the asset volatility. The interest rate is easy enough to measure, and the option value isn’t so sensitive to it anyway. But the volatility is another matter, rather harder to forecast accurately.\n",
    "- Because the main uncertainty in the equation is the volatility one sometimes thinks of the equation less as a valuation tool and more as a way of understanding the relationship between options and volatility.\n",
    "- The equation is easy to solve numerically, by finite-difference or Monte Carlo methods, for example.\n",
    "- The equation can be generalized to allow for dividends, other payoffs, stochastic volatility, jumping stock prices, etc.\n"
   ]
  },
  {
   "cell_type": "markdown",
   "metadata": {},
   "source": [
    "<span style=\"color:red\"> The Black–Scholes formulæ   </span>: which are solutions of the equation in special cases, such as for calls and puts. $\\frac{\\partial V}{\\partial t} +\\frac{1}{2} \\sigma^{2} S^{2}\\frac{\\partial^{2} V}{\\partial S^{2}} +rS\\frac{\\partial V}{\\partial S} -rV=0$\n",
    "\n",
    "The equation contains four terms:\n",
    "- $\\frac{\\partial V}{\\partial t} $ time decay, how much the option value changes by if the stock price doesn\u0001t change\n",
    "- $\\frac{1}{2} \\sigma^{2} S^{2}\\frac{\\partial^{2} V}{\\partial S^{2}} $ : convexity term, how much a hedged position makes on average from stock moves\n",
    "-  $ S\\frac{\\partial V}{\\partial S} $ : drift term allowing for the growth in the stock at the\n",
    "risk-free rate\n",
    "- $rV$ the discounting term, since the payoff is received\n",
    "at expiration but you are valuing the option now."
   ]
  },
  {
   "cell_type": "markdown",
   "metadata": {},
   "source": [
    "<span style=\"color:red\"> Solution to The Black–Scholes equation   </span>: "
   ]
  },
  {
   "cell_type": "markdown",
   "metadata": {},
   "source": [
    "Black-Scholes equation\n",
    "$$\\left[ \\frac{\\partial V}{\\partial t} +\\frac{1}{2} \\sigma^{2} S^{2}\\frac{\\partial^{2} V}{\\partial S^{2}} \\right]  dt=r\\left( V-S\\frac{\\partial V}{\\partial S} \\right)  dt$$"
   ]
  },
  {
   "cell_type": "markdown",
   "metadata": {},
   "source": [
    "It is a parabolic partial differential equation\n",
    "\n",
    "Linear: so the sum of the solutions is also a solution\n",
    "\n",
    "Financial equations are usually parabolic: They are related to heat and diffusion equations of Physics"
   ]
  },
  {
   "cell_type": "markdown",
   "metadata": {},
   "source": [
    "<span style=\"color:green\"> Solution to The Black–Scholes equation   </span>: no dividend yields onn the underlying"
   ]
  },
  {
   "cell_type": "markdown",
   "metadata": {},
   "source": [
    "$$N(x)=\\frac{1}{\\sqrt{2\\pi } } \\int^{x}_{-\\infty } e^{-\\frac{z^{2}}{2} }\\  dz $$"
   ]
  },
  {
   "cell_type": "markdown",
   "metadata": {},
   "source": [
    "Standard normal distribution"
   ]
  },
  {
   "cell_type": "markdown",
   "metadata": {},
   "source": [
    "**Call option**\n",
    "$$S(0)N(d_{1})-Ee^{-r(T-t)}N(d_{2})$$"
   ]
  },
  {
   "cell_type": "markdown",
   "metadata": {},
   "source": [
    "**Put Option**\n",
    "$$-S(0)N(-d_{1})+Ee^{-r(T-t)}N(-d_{2})$$\n"
   ]
  },
  {
   "cell_type": "markdown",
   "metadata": {},
   "source": [
    "Where, $$d_{1}=\\frac{log\\left[ \\frac{S\\left( 0\\right)  }{E} \\right]  +(r+\\frac{1}{2} \\sigma^{2} )(T-t)}{\\sigma \\sqrt{T-t} } $$"
   ]
  },
  {
   "cell_type": "markdown",
   "metadata": {},
   "source": [
    "$$d_{2}=d_{1}-\\sigma \\sqrt{T-t} $$"
   ]
  },
  {
   "cell_type": "code",
   "execution_count": 12,
   "metadata": {},
   "outputs": [
    {
     "name": "stdout",
     "output_type": "stream",
     "text": [
      "The d1 and d2 parameters: 0.35000000000000003, 0.15000000000000002\n",
      "Call option price according to Black-Scholes model:  10.450583572185565\n",
      "The d1 and d2 parameters: 0.35000000000000003, 0.15000000000000002\n",
      "Put option price according to Black-Scholes model:  5.573526022256971\n"
     ]
    }
   ],
   "source": [
    "from scipy import stats\n",
    "from numpy import log, exp, sqrt\n",
    "\n",
    "\n",
    "def call_option_price(S, E, T, rf, sigma):\n",
    "    # first we have to calculate d1 and d2 parameters\n",
    "    d1 = (log(S / E) + (rf + sigma * sigma / 2.0) * T) / (sigma * sqrt(T))\n",
    "    d2 = d1 - sigma * sqrt(T)\n",
    "    print(\"The d1 and d2 parameters: %s, %s\" % (d1, d2))\n",
    "    # use the N(x) to calculate the price of the option\n",
    "    return S*stats.norm.cdf(d1)-E*exp(-rf*T)*stats.norm.cdf(d2)\n",
    "\n",
    "\n",
    "def put_option_price(S, E, T, rf, sigma):\n",
    "    # first we have to calculate d1 and d2 parameters\n",
    "    d1 = (log(S / E) + (rf + sigma * sigma / 2.0) * T) / (sigma * sqrt(T))\n",
    "    d2 = d1 - sigma * sqrt(T)\n",
    "    print(\"The d1 and d2 parameters: %s, %s\" % (d1, d2))\n",
    "    # use the N(x) to calculate the price of the option\n",
    "    return -S*stats.norm.cdf(-d1)+E*exp(-rf*T)*stats.norm.cdf(-d2)\n",
    "\n",
    "\n",
    "if __name__ == '__main__':\n",
    "    # underlying stock price at t=0\n",
    "    S0 = 100\n",
    "    # strike price\n",
    "    E = 100\n",
    "    # expiry 1year=365days\n",
    "    T = 1\n",
    "    # risk-free rate\n",
    "    rf = 0.05\n",
    "    # volatility of the underlying stock\n",
    "    sigma = 0.2\n",
    "\n",
    "    print(\"Call option price according to Black-Scholes model: \",\n",
    "          call_option_price(S0, E, T, rf, sigma))\n",
    "    print(\"Put option price according to Black-Scholes model: \",\n",
    "          put_option_price(S0, E, T, rf, sigma))"
   ]
  },
  {
   "cell_type": "markdown",
   "metadata": {},
   "source": [
    "# Monte Carlo Simulation\n"
   ]
  },
  {
   "cell_type": "markdown",
   "metadata": {},
   "source": [
    "### <span style=\"color:red\"> Definition   </span>  \n",
    "Monte Carlo simulations are a way of solving probabilistic problems by numerically ‘imagining’ many possible scenarios or games so as to calculate statistical properties such as expectations, variances or probabilities of certain outcomes. In finance we use such simulations to represent the future behaviour of equities, exchange rates, interest rates, etc., so as to either study the possible future performance of a port- folio or to price derivatives.\n",
    "\n",
    "### <span style=\"color:red\"> Example   </span>  \n",
    "We hold a complex portfolio of investments, we would like\n",
    "to know the probability of losing money over the next year since our bonus depends on our making a profit. We can estimate this probability by simulating how the individual components in our portfolio might evolve over the next year. This requires us to have a model for the random behaviour of each of the assets, including the relationship or correlation between them, if any.\n",
    "Some problems which are completely deterministic can also be solved numerically by running simulations, most famously finding a value for $\\pi$.\n",
    "\n",
    "It is clear enough that probabilistic problems can be solved by simulations. What is the probability of tossing heads with a coin, just toss the coin often enough and you will find the answer. More on this and its relevance to finance shortly. But many deterministic problems can also be solved this way, provided you can find a probabilistic equivalent of the deterministic problem. A famous example of this is Buffon’s needle, a problem and solution dating back to 1777. Draw parallel lines on a table one inch apart. Drop a needle, also one inch long, onto this table. Simple trigonometry will show you that the probability of the needle touching one of the lines is $\\frac{2}{\\pi } $. So conduct many such experiments to get an approximation to $\\pi$. Unfortunately because of the probabilistic nature of this method you will have to drop the needle many billions of times to find π accurate to half a dozen decimal places.\n",
    "\n",
    "There can also be a relationship between certain types of differential equation and probabilistic methods. Stanislaw Ulam, inspired by a card game, invented this technique while working on the Manhattan Project towards the development of nuclear weapons. The name **Monte Carlo** was given to this idea by his colleague Nicholas Metropolis.\n"
   ]
  },
  {
   "cell_type": "markdown",
   "metadata": {},
   "source": [
    "### <span style=\"color:red\"> Explanation  </span>  "
   ]
  },
  {
   "cell_type": "markdown",
   "metadata": {},
   "source": [
    "**Monte Carlo simulations** are used in financial problems for solving two types of problems:\n",
    "- Exploring the statistical properties of a portfolio of investments or cashflows to determine quantities such as expected returns, risk, possible downsides, probabilities of making certain profits or losses, etc.\n",
    "- Finding the value of derivatives by exploiting the theoretical relationship between option values and expected payoff under a risk-neutral **random walk**.\n",
    "\n",
    "**Exploring portfolio statistics**: The most successful quantitative models represent investments as random walks. There is a whole mathematical theory behind these models, but to appreciate the role they play in portfolio analysis you just need to understand three simple concepts.\n",
    "\n",
    "- First, you need an algorithm for how the most basic investments evolve randomly. In equities this is often the lognormal random walk. (If you know about the real/risk-neutral distinction then you should know that you will be using the real random walk here.) This can be represented on a spreadsheet or in code as how a stock price changes from one period to the next by adding on a random return. In the fixed-income world you may be using the BGM model ( *The BGM model, also known as the Brace-Gatarek-Musiela (BGM) model or the Libor Market Model (LMM), is a financial model used to describe the evolution of interest rates*) to model how interest rates of various maturities evolve. In credit you may have a model that models the random bankruptcy of a company. If you have more than one such investment that you must model then you will also need to represent any interrelationships between them. This is often achieved by using correlations.\n",
    "\n",
    "- Once you can perform such simulations of the basic investments then you need to have models for more complicated contracts that depend on them, these are the options/derivatives/contingent claims. For this you need some theory, derivatives theory. This the second concept you must understand.\n",
    "\n",
    "- Finally, you will be able to simulate many thousands, or more, future scenarios for your portfolio and use the results to examine the statistics of this portfolio. This is, for example, how classical Value at Risk can be estimated, among other things.\n",
    "\n",
    "**Pricing derivatives** We know from the results of risk-neutral pricing that in the popular derivatives theories the value of an option can be calculated as the present value of the expected payoff under a risk-neutral random walk. And calculating expectations for a single contract is just a simple example of the above-mentioned portfolio analysis, but just for a single option and using the risk-neutral instead of the real random walk. Even though the pricing models can often be written as deterministic partial differential equations they can be solved in a probabilistic way, just as Stanislaw Ulam noted for other, non-financial, problems. This pricing methodology for derivatives was first proposed by the actuarially trained Phelim Boyle in 1977.\n",
    "Whether you use Monte Carlo for probabilistic or deterministic problems the method is usually quite simple to implement in basic form and so is extremely popular in practice."
   ]
  },
  {
   "cell_type": "markdown",
   "metadata": {},
   "source": [
    "### <span style=\"color:red\"> Application to stoke price  </span> "
   ]
  },
  {
   "cell_type": "markdown",
   "metadata": {},
   "source": [
    "We know that $S(t)$ assets (such as stocks) follow **lognormal random walk**\n",
    "$$dS=\\mu S\\text{dt} +\\sigma S\\text{dW} $$\n",
    " \n",
    "- $\\mu S\\text{dt} $ deterministic part- the drift that can be characterized by the mean \n",
    "- $\\sigma S\\text{dW} $ stochastic part with Wiener-process that can be characterized by the standard deviation or the so called volatility "
   ]
  },
  {
   "cell_type": "markdown",
   "metadata": {},
   "source": [
    "So what do we have to do if we know the starting point? So as zero, which means that the stock price at T goes to zero and we know the given parameters the mean and the standard deviation we can calculated based on historical data then we can make multiple simulations and it is quite cheap to create a simulation like these since we know how to simulate **lognormal random walks** \n",
    "\n",
    "We have to create tens of thousands of simulations in the sense that we are going to\n",
    "create the first simulation.Of course, the stock price are going to fluctuate.\n",
    "They will increase, they will decrease and so on. So the first simulation is going to yield a different path than the second simulation will yield another path. The simulation will yield another path of the underlying stock and so on. If we make tens of thousands of simulations, then we end up with this implementation"
   ]
  },
  {
   "cell_type": "code",
   "execution_count": 13,
   "metadata": {},
   "outputs": [],
   "source": [
    "import numpy as np\n",
    "import pandas as pd\n",
    "import matplotlib.pyplot as plt\n",
    "\n",
    "NUM_OF_SIMULATIONS = 10000\n",
    "\n",
    "\n",
    "def stock_monte_carlo(S0, mu, sigma, N=252):\n",
    "\n",
    "    result = []\n",
    "\n",
    "    # number of simulations - possible S(t) realizations (of the process)\n",
    "    for _ in range(NUM_OF_SIMULATIONS):\n",
    "        prices = [S0]\n",
    "        for _ in range(N):\n",
    "            # we simulate the change day by day (t=1)\n",
    "            stock_price = prices[-1] * np.exp((mu - 0.5 * sigma ** 2) +\n",
    "                                              sigma * np.random.normal())\n",
    "            prices.append(stock_price)\n",
    "\n",
    "        result.append(prices)\n",
    "\n",
    "    simulation_data = pd.DataFrame(result)\n",
    "    # the given columns will contain the time series for a given simulation\n",
    "    simulation_data = simulation_data.T\n",
    "\n",
    "    # plt.plot(simulation_data)\n",
    "    # plt.show()\n",
    "\n",
    "    # print('Prediction for future stock price: $%.2f' % simulation_data['mean'].tail(1))\n",
    "\n",
    "    return simulation_data\n",
    "\n",
    "\n",
    "if __name__ == '__main__':\n",
    "    simulation_data = stock_monte_carlo(50, 0.0002, 0.01)\n",
    "    plt.plot(simulation_data)\n",
    "    plt.show()\n",
    "\n",
    "    print('Prediction for future stock price: $%.2f' % simulation_data.mean(axis=1).tail(1).values[0])\n",
    "\n"
   ]
  },
  {
   "cell_type": "markdown",
   "metadata": {},
   "source": [
    "We generate a huge amount of possible $S(t)$ geometric random walk process\n",
    "The mean of these simulations yields the $S_{B}\\left( t\\right)$ path with the highest probability in the future. This is a typical **Monte-Carlo simulation**"
   ]
  },
  {
   "cell_type": "markdown",
   "metadata": {},
   "source": [
    "## Which Numerical Method should I Use and When?"
   ]
  },
  {
   "cell_type": "markdown",
   "metadata": {},
   "source": [
    " <span style=\"color:red\"> Definition   </span>:  The three main numerical methods in common use are **Monte Carlo, finite difference and numerical quadrature**. (I’m including the binomial method as just a simplistic version of finite differences.)  <span style=\"color:green\"> Monte Carlo  </span>is great for complex path dependency and high dimensionality, and for problems which can not easily be written in differential equation form. Monte Carlo methods simulate the random behaviour underlying the financial models. So, in a sense they get right to the heart of the problem. Always remember, though, that when pricing you must simulate the risk-neutral random walk(s), the value of a contract is then the expected present value of all cashflows. <span style=\"color:green\"> Finite difference  </span> is best for low dimensions and contracts with decision features such as early exercise, ones which have a differential equation formulation Since we work with a mesh, not unlike the binomial method, we will find the contract value at all points is stock price-time space. In quantitative finance that differential equation is almost always of diffusion or parabolic type.  <span style=\"color:green\"> Numerical quadrature  </span> is for when you can write the option value as a multiple integral. To be more detail ,occasionally one can write down the solution of an **option-pricing** problem in the form of a multiple integral. This is because you can interpret the option value as an expectation of a payoff, and an expectation of the payoff is mathematically just the integral of the product of that payoff function and a probability density function. This is only possible in special cases. The option has to be European, the underlying stochastic differential equation must be explicitly integrable (so the lognormal random walk is perfect for this) and the payoff shouldn’t usually be path dependent. So if this is possible then pricing is easy... you have a formula. The only difficulty comes in turning this formula into a number. And that’s the subject of numerical integration or quadrature.\n",
    "\n",
    " <span style=\"color:red\"> Example  </span>  \n",
    "You want to price a fixed-income contract using the BGM model. Which numerical method should you use? BGM is geared up for solution by simulation, so you would use a Monte Carlo simulation.\n",
    "\n",
    "You want to price an option which is paid for in instalments, and you can stop paying and lose the option at any time if you think it’s not worth keeping up the payments. This may be one for finite-difference methods since it has a decision feature.\n",
    "\n",
    "You want to price a European, non-path-dependent contract on a basket of equities. This may be recast as a multiple inte- gral and so you would use a quadrature method.\n",
    "\n",
    " <span style=\"color:red\"> Summary  </span> \n",
    "\n",
    " Pros and cons of different methods: Finite Dimension(FD), Monte-Carlos(MC), Numerical quadrature (Quand)\n",
    "\n",
    " | Subject            | Low dimensions | High dimensions | Path dependent Greeks | Portfolio Decisions | Non-linear |\n",
    "|--------------------|----------------|-----------------|-----------------------|---------------------|------------|\n",
    "| FD                 | Good           | Slow            | Depends               | Excellent           | Inefficient | Excellent | Excellent |\n",
    "| MC                 | Inefficient    | Excellent       | Excellent             | Not good            | Very good   | Poor      | Poor      |\n",
    "| Quad.              | Good           | Good            | Not good              | Excellent           | Very good   | Very poor | Very poor |\n"
   ]
  },
  {
   "cell_type": "markdown",
   "metadata": {},
   "source": [
    "# Black-Scholes model implementation with Monte-Carlo simulation "
   ]
  },
  {
   "cell_type": "markdown",
   "metadata": {},
   "source": [
    "## Option Pricing with Monte-Carlo simulation "
   ]
  },
  {
   "cell_type": "markdown",
   "metadata": {},
   "source": [
    "For an option the underlying asset(stock) follows a **geometric random walk** \n",
    "\n",
    "Therefore by simulating these stochastic processes we can determine the price of financial intruments (**option**)\n",
    "$$dS(t)=\\mu S(t)dt+\\  \\sigma S(t)dW$$\n",
    "\n"
   ]
  },
  {
   "cell_type": "markdown",
   "metadata": {},
   "source": [
    "We can obtain the $$logS(t)$$ beacause we know that stock prices can not be negative. So let use Itô's Lemma with $F(S)=logS(t)$\n",
    "$$d\\  logS(t)=\\  \\left( \\mu -\\frac{1}{2} \\sigma^{2} \\right)  dt+\\sigma dW$$"
   ]
  },
  {
   "cell_type": "markdown",
   "metadata": {},
   "source": [
    "$$\\  logS(t)=logS(0)+\\left( \\mu -\\frac{1}{2} \\sigma^{2} \\right)  t+\\sigma \\int^{t}_{0} dW$$"
   ]
  },
  {
   "cell_type": "markdown",
   "metadata": {},
   "source": [
    "Wiener-process is a random walk with mean $0$ and the variance $t$ so it can be written as $N(O,t)\\  $ or $\\sqrt{t} N(O,1)\\  $"
   ]
  },
  {
   "cell_type": "markdown",
   "metadata": {},
   "source": [
    "If we make risk-neutral assumption; the $\\mu $ drift becomes the $r$ risk-free interest rate\n",
    "$$S(t)=S(0)e^{\\left[ \\left( r-\\frac{1}{2} \\sigma^{2} \\right)  T\\  +\\  \\sigma \\sqrt{T} \\  \\times N\\left( 0,1\\right)  \\right]  }$$\n",
    "\n"
   ]
  },
  {
   "cell_type": "markdown",
   "metadata": {},
   "source": [
    "This exponential function defines the **S(t)** stock and price at **T** maturity\n",
    "\n",
    "In **Monte-Carlo simulation** we can generate a large amount of stock prices extimates with this equation\n",
    "\n",
    "The option price is expected value of a pay-off fucntion. We have to use a **discouted factor** (time value of money)\n",
    "\n",
    "**Call-option** :$\\text{Max} (S-E,0)$ \n",
    "\n",
    "**Put-option**  :$\\text{Max} (E-S,0)$"
   ]
  },
  {
   "cell_type": "markdown",
   "metadata": {},
   "source": [
    "### Black-Scholes model implementation with Monte-Carlo simulation I"
   ]
  },
  {
   "cell_type": "code",
   "execution_count": null,
   "metadata": {},
   "outputs": [
    {
     "name": "stdout",
     "output_type": "stream",
     "text": [
      "Value of the call option is $10.30\n",
      "Value of the put option is $5.46\n"
     ]
    }
   ],
   "source": [
    "import numpy as np\n",
    "\n",
    "\n",
    "class OptionPricing:\n",
    "\n",
    "    def __init__(self, S0, E, T, rf, sigma, iterations):\n",
    "        self.S0 = S0\n",
    "        self.E = E\n",
    "        self.T = T\n",
    "        self.rf = rf\n",
    "        self.sigma = sigma\n",
    "        self.iterations = iterations\n",
    "\n",
    "    def call_option_simulation(self):\n",
    "        # we have 2 columns: first with 0s the second column will store the payoff\n",
    "        # we need the first column of 0s: payoff function is max(0,S-E) for call option\n",
    "        option_data = np.zeros([self.iterations, 2])\n",
    "\n",
    "        # dimensions: 1 dimensional array with as many items as the iterations\n",
    "        rand = np.random.normal(0, 1, [1, self.iterations])\n",
    "\n",
    "        # equation for the S(t) stock price at T\n",
    "        stock_price = self.S0 * np.exp(self.T * (self.rf - 0.5 * self.sigma ** 2)\n",
    "                                       + self.sigma * np.sqrt(self.T) * rand)\n",
    "\n",
    "        # we need S-E because we have to calculate the max(S-E,0)\n",
    "        option_data[:, 1] = stock_price - self.E\n",
    "\n",
    "        # average for the Monte-Carlo simulation\n",
    "        # max() returns the max(0,S-E) according to the formula\n",
    "        # THIS IS THE AVERAGE VALUE !!!\n",
    "        average = np.sum(np.amax(option_data, axis=1)) / float(self.iterations)\n",
    "\n",
    "        # have to use the exp(-rT) discount factor\n",
    "        return np.exp(-1.0*self.rf*self.T)*average\n",
    "\n",
    "    def put_option_simulation(self):\n",
    "        # we have 2 columns: first with 0s the second column will store the payoff\n",
    "        # we need the first column of 0s: payoff function is max(0,S-E) for call option\n",
    "        option_data = np.zeros([self.iterations, 2])\n",
    "\n",
    "        # dimensions: 1 dimensional array with as many items as the iterations\n",
    "        rand = np.random.normal(0, 1, [1, self.iterations])\n",
    "\n",
    "        # equation for the S(t) stock price at T\n",
    "        stock_price = self.S0 * np.exp(self.T * (self.rf - 0.5 * self.sigma ** 2)\n",
    "                                       + self.sigma * np.sqrt(self.T) * rand)\n",
    "\n",
    "        # we need S-E because we have to calculate the max(E-S,0)\n",
    "        option_data[:, 1] = self.E - stock_price\n",
    "\n",
    "        # average for the Monte-Carlo simulation\n",
    "        # max() returns the max(0,S-E) according to the formula\n",
    "        # THIS IS THE AVERAGE VALUE !!!\n",
    "        average = np.sum(np.amax(option_data, axis=1)) / float(self.iterations)\n",
    "\n",
    "        # have to use the exp(-rT) discount factor\n",
    "        return np.exp(-1.0*self.rf*self.T)*average\n",
    "\n",
    "\n",
    "if __name__ == '__main__':\n",
    "    model = OptionPricing(100, 100, 1, 0.05, 0.2, 10000)\n",
    "    print('Value of the call option is $%.2f' % model.call_option_simulation())\n",
    "    print('Value of the put option is $%.2f' % model.put_option_simulation())\n",
    "\n"
   ]
  },
  {
   "cell_type": "markdown",
   "metadata": {},
   "source": [
    "### Black-Scholes model implementation with Monte-Carlo simulation II"
   ]
  },
  {
   "cell_type": "code",
   "execution_count": null,
   "metadata": {},
   "outputs": [
    {
     "name": "stdout",
     "output_type": "stream",
     "text": [
      "Call option price with Monte-Carlo approach:  10.44236908153804\n",
      "Put option price with Monte-Carlo approach:  5.564646989330932\n"
     ]
    }
   ],
   "source": [
    "import numpy as np\n",
    "import math\n",
    "import time\n",
    " \n",
    "class OptionPricing:\n",
    "    \n",
    "\tdef __init__(self,S0,E,T,rf,sigma,iterations):\n",
    "\t\tself.S0 = S0\n",
    "\t\tself.E = E\n",
    "\t\tself.T = T\n",
    "\t\tself.rf = rf\n",
    "\t\tself.sigma = sigma     \n",
    "\t\tself.iterations = iterations \n",
    " \n",
    "\tdef call_option_simulation(self):\n",
    "\t\t\n",
    "\t\t#we have 2 columns: first with 0s the second column will store the payoff\n",
    "\t\t#we need the first column of 0s: payoff function is max(0,S-E) for call option\n",
    "\t\toption_data = np.zeros([self.iterations, 2])\n",
    "\t\t\n",
    "\t\t#dimensions: 1 dimensional array with as many items as the itrations\n",
    "\t\trand = np.random.normal(0, 1, [1, self.iterations])\n",
    "\t\t\n",
    "\t\t#equation for the S(t) stock price\n",
    "\t\tstock_price = self.S0*np.exp(self.T*(self.rf - 0.5*self.sigma**2)+self.sigma*np.sqrt(self.T)*rand)\n",
    " \n",
    "\t\t#we need S-E because we have to calculate the max(S-E,0)\n",
    "\t\toption_data[:,1] = stock_price - self.E   \n",
    "        \n",
    "\t\t#average for the Monte-Carlo method\n",
    "\t\t#np.amax() returns the max(0,S-E) according to the formula\n",
    "\t\taverage = np.sum(np.amax(option_data, axis=1))/float(self.iterations)\n",
    " \n",
    "\t\t#have to use the exp(-rT) discount factor\n",
    "\t\treturn np.exp(-1.0*self.rf*self.T)*average\n",
    "\t\t\n",
    "\tdef put_option_simulation(self):\n",
    "\t\n",
    "\t\t#we have 2 columns: first with 0s the second column will store the payoff\n",
    "\t\t#we need the first column of 0s: payoff function is max(0,E-S) for put option\n",
    "\t\toption_data = np.zeros([self.iterations, 2])\n",
    "\t\t\n",
    "\t\t#dimensions: 1 dimensional array with as many items as the itrations\n",
    "\t\trand = np.random.normal(0, 1, [1, self.iterations])\n",
    "\t\t\n",
    "\t\t#equation for the S(t) stock price\n",
    "\t\tstock_price = self.S0*np.exp(self.T*(self.rf - 0.5*self.sigma**2)+self.sigma*np.sqrt(self.T)*rand)\n",
    " \n",
    "\t\t#we need E-S because we have to calculate the max(E-S,0)\n",
    "\t\toption_data[:,1] = self.E - stock_price  \n",
    "        \n",
    "\t\t#average for the Monte-Carlo method\n",
    "\t\t#np.amax() returns the max(0,E-S) according to the formula\n",
    "\t\taverage = np.sum(np.amax(option_data, axis=1))/float(self.iterations)\n",
    " \n",
    "\t\t#have to use the exp(-rT) discount factor\n",
    "\t\treturn np.exp(-1.0*self.rf*self.T)*average\n",
    "\n",
    "if __name__ == \"__main__\":\n",
    "\t\n",
    "\tS0=100\t\t\t\t\t#underlying stock price at t=0\n",
    "\tE=100\t\t\t\t\t#strike price\n",
    "\tT = 1\t\t\t\t\t#expiry\n",
    "\trf = 0.05\t\t\t\t#risk-free rate\n",
    "\tsigma=0.2\t\t\t\t#volatility of the underlying stock\n",
    "\titerations = 1000000\t#number of iterations in the Monte-Carlo simulation\t\n",
    "\t\n",
    "\tmodel = OptionPricing(S0,E,T,rf,sigma,iterations)\n",
    "\tprint(\"Call option price with Monte-Carlo approach: \", model.call_option_simulation()) \n",
    "\tprint(\"Put option price with Monte-Carlo approach: \", model.put_option_simulation())\n",
    "\n"
   ]
  },
  {
   "cell_type": "markdown",
   "metadata": {},
   "source": [
    "# Value at Risk\n"
   ]
  },
  {
   "cell_type": "markdown",
   "metadata": {},
   "source": [
    "<span style=\"color:red\"> Definition   </span>\n",
    "Value at Risk, or VaR for short, is a measure of the amount that could be lost from a position, portfolio, desk, bank, etc. VaR is generally understood to mean the maximum loss an investment could incur at a given confidence level over a specified time horizon. There are other risk measures used in practice but this is the simplest and most common.\n"
   ]
  },
  {
   "cell_type": "markdown",
   "metadata": {},
   "source": [
    "<span style=\"color:red\"> Example  </span>  \n",
    "VaR calculations often assume that returns are normally distributed over the time horizon of interest. Inputs for a VaR calculation will include details of the portfolio composition, the time horizon, and parameters governing the distribution of the underlyings. The latter set of parameters includes average growth rate, standard deviations (volatilities) and correlations. *(If the time horizon is short you can ignore the growth rate, as it will only have a small effect on the final calculation.)* "
   ]
  },
  {
   "cell_type": "markdown",
   "metadata": {},
   "source": [
    "There is a trade-off between risk and return which is the conclusion from the **Modern Porfolio Theory** and **CAPM**\n",
    "\n",
    "The measuring return is quite straightforward but what abour risk ?\n",
    "\n",
    "There are several measures: variance, standard deviation to mesure the total risk + beta to mesure market risk... and these mesure do not consider a probability distribution. There is another measure with this feature: **Value at risk (VaR)**\n"
   ]
  },
  {
   "cell_type": "markdown",
   "metadata": {},
   "source": [
    "<span style=\"color:red\"> Implementation VaR  </span> \n",
    "\n",
    "**Variance method**: assumes returns are normally distributed\n",
    "and the density of normal distribution function is important:\n",
    "$$f(x)=\\frac{1}{\\sqrt{2\\pi \\sigma^{2} } } e^{-\\frac{\\left( x-\\mu \\right)^{2}  }{2\\sigma^{2} } }$$\n",
    "\n",
    "With the return at risk $\\frac{S(t+1)-S(t)}{S(t)} =R(t)$ return in the interval $\\left[ t,t+1\\right]  $. As we have seen the daily returns (monthly returns) has approximately normal distribution that can be defined by two parameters mean and variance , so returns can be defined by these parameters as well $$R(t)=\\  \\text{mean} +C\\times \\text{standard deviation} $$ \n",
    "we can define return as a random variable drawn from a normal distribution \n",
    "\n",
    "The density function is closely related to probability: the integral of the function yields the probability $P(a<x<b)=\\int^{b}_{a} f(x)dx$\n",
    "\n",
    "**For instance**, on february 10, 2017, we own 100 shares of Apple (AAPPL). The maximum loss tommorrow is $1750 with 99% confident level\n",
    "\n",
    "We would like to make sure the loss is not going to be greater than a predefined value  $Prob\\left\\{ \\delta \\pi -\\text{VaR} \\right\\}  =1-c$\n",
    ",where **z** defined the number of standard deviations from mean: with 99% confidence level we have $z=2.33$\n",
    "\n",
    "$$\\text{VaR} =\\text{ position} \\left( \\mu_{period} -z\\sigma_{period} \\right)  $$\n",
    "\n",
    "We have another problem to deal with: the mean and the variance applied to the daily returns. But the time interval for VaR is not necessary 1 day\n",
    "$$\\begin{cases}\\sigma_{n-day} =\\sigma_{daily} \\sqrt{n} &\\\\ \\mu_{n-day} =\\mu_{daily} n&\\end{cases} $$\n",
    "\n",
    "We have\n",
    "$$\\text{VaR} =\\Delta S\\left[ \\mu \\delta t-\\sigma \\sqrt{\\delta t} a(1-c)\\right]  $$\n",
    "\n",
    "If we calculate VaR tommorrow: so $\\delta t$ is small, we can omit the $\\mu$ term\n",
    "\n",
    "If we calculate $VaR$ for longer periods (years): we have to take drift into consideration as well\n",
    "\n",
    "$a\\left( 1-c\\right)  \\  $ is the inverse cumulative distribution function for the standardlized normal distribution "
   ]
  },
  {
   "cell_type": "code",
   "execution_count": null,
   "metadata": {},
   "outputs": [
    {
     "name": "stdout",
     "output_type": "stream",
     "text": [
      "[*********************100%***********************]  1 of 1 completed\n",
      "                    C   returns\n",
      "Date                           \n",
      "2014-01-03  43.887192  0.021388\n",
      "2014-01-06  44.224144  0.007648\n",
      "2014-01-07  44.528240  0.006853\n",
      "2014-01-08  45.046001  0.011561\n",
      "2014-01-09  45.366520  0.007090\n",
      "...               ...       ...\n",
      "2017-12-22  63.763924 -0.004362\n",
      "2017-12-26  63.164215 -0.009450\n",
      "2017-12-27  63.257126  0.001470\n",
      "2017-12-28  63.417610  0.002534\n",
      "2017-12-29  62.851692 -0.008964\n",
      "\n",
      "[1006 rows x 2 columns]\n",
      "Value at risk is: $35762.32\n"
     ]
    }
   ],
   "source": [
    "import numpy as np\n",
    "import yfinance as yf\n",
    "from scipy.stats import norm\n",
    "import pandas as pd\n",
    "import datetime\n",
    "\n",
    "\n",
    "def download_data(stock, start_date, end_date):\n",
    "    data = {}\n",
    "    ticker = yf.download(stock, start_date, end_date)\n",
    "    data[stock] = ticker['Adj Close']\n",
    "    return pd.DataFrame(data)\n",
    "\n",
    "\n",
    "# this is how we calculate the VaR tomorrow (n=1)\n",
    "def calculate_var(position, c, mu, sigma):\n",
    "    var = position * (mu - sigma * norm.ppf(1-c))\n",
    "    return var\n",
    "\n",
    "\n",
    "# this is how we calculate the VaR for any days in the future\n",
    "def calculate_var_n(position, c, mu, sigma, n):\n",
    "    var = position * (mu * n - sigma * np.sqrt(n) * norm.ppf(1-c))\n",
    "    return var\n",
    "\n",
    "\n",
    "if __name__ == '__main__':\n",
    "\n",
    "    start = datetime.datetime(2014, 1, 1)\n",
    "    end = datetime.datetime(2018, 1, 1)\n",
    "\n",
    "    stock_data = download_data('C', start, end)\n",
    "\n",
    "    stock_data['returns'] = np.log(stock_data['C'] / stock_data['C'].shift(1))\n",
    "    stock_data = stock_data[1:]\n",
    "    print(stock_data)\n",
    "\n",
    "    # this is the investment (stocks or whatever)\n",
    "    S = 1e6\n",
    "    # confidence level - this time it is 95%\n",
    "    c = 0.99\n",
    "\n",
    "    # we assume that daily returns are normally distributed\n",
    "    mu = np.mean(stock_data['returns'])\n",
    "    sigma = np.std(stock_data['returns'])\n",
    "\n",
    "    print('Value at risk is: $%0.2f' % calculate_var_n(S, c, mu, sigma, 1))\n"
   ]
  },
  {
   "cell_type": "markdown",
   "metadata": {},
   "source": [
    "<span style=\"color:green\"> Value at risk implementation with Monte-Carlo simulation  </span> "
   ]
  },
  {
   "cell_type": "code",
   "execution_count": null,
   "metadata": {},
   "outputs": [
    {
     "name": "stdout",
     "output_type": "stream",
     "text": [
      "[*********************100%***********************]  1 of 1 completed\n",
      "Value at risk with Monte-Carlo simulation: $24450.99\n"
     ]
    }
   ],
   "source": [
    "import numpy as np\n",
    "import yfinance as yf\n",
    "import datetime\n",
    "import pandas as pd\n",
    "\n",
    "\n",
    "def download_data(stock, start, end):\n",
    "    data = {}\n",
    "    ticker = yf.download(stock, start, end)\n",
    "    data['Adj Close'] = ticker['Adj Close']\n",
    "    return pd.DataFrame(data)\n",
    "\n",
    "\n",
    "class ValueAtRiskMonteCarlo:\n",
    "\n",
    "    def __init__(self, S, mu, sigma, c, n, iterations):\n",
    "        self.S = S\n",
    "        self.mu = mu\n",
    "        self.sigma = sigma\n",
    "        self.c = c\n",
    "        self.n = n\n",
    "        self.iterations = iterations\n",
    "\n",
    "    def simulation(self):\n",
    "        stock_data = np.zeros([self.iterations, 1])\n",
    "        rand = np.random.normal(0, 1, [1, self.iterations])\n",
    "\n",
    "        # equation for the S(t) stock price\n",
    "        stock_price = self.S * np.exp(self.n * (self.mu - 0.5 * self.sigma ** 2) + self.sigma * np.sqrt(self.n) * rand)\n",
    "\n",
    "        # we have to sort the stock prices to determine the percentile\n",
    "        stock_price = np.sort(stock_price)\n",
    "\n",
    "        # it depends on the confidence level: 95% -> 5 and 99% -> 1\n",
    "        percentile = np.percentile(stock_price, (1 - self.c) * 100)\n",
    "\n",
    "        return self.S - percentile\n",
    "\n",
    "\n",
    "if __name__ == \"__main__\":\n",
    "    S = 1e6  # this is the investment (stocks or whatever)\n",
    "    c = 0.95  # condifence level: this time it is 99%\n",
    "    n = 1  # 1 day\n",
    "    iterations = 100000  # number of paths in the Monte-Carlo simulation\n",
    "\n",
    "    # historical data to approximate mean and standard deviation\n",
    "    start_date = datetime.datetime(2014, 1, 1)\n",
    "    end_date = datetime.datetime(2017, 10, 15)\n",
    "\n",
    "    # download stock related data from Yahoo Finance\n",
    "    citi = download_data('C', start_date, end_date)\n",
    "\n",
    "    # we can use pct_change() to calculate daily returns\n",
    "    citi['returns'] = citi['Adj Close'].pct_change()\n",
    "\n",
    "    # we can assume daily returns to be normally sidtributed: mean and variance (standard deviation)\n",
    "    # can describe the process\n",
    "    mu = np.mean(citi['returns'])\n",
    "    sigma = np.std(citi['returns'])\n",
    "\n",
    "    model = ValueAtRiskMonteCarlo(S, mu, sigma, c, n, iterations)\n",
    "\n",
    "    print('Value at risk with Monte-Carlo simulation: $%0.2f' % model.simulation())\n",
    "\t"
   ]
  }
 ],
 "metadata": {
  "interpreter": {
   "hash": "aee8b7b246df8f9039afb4144a1f6fd8d2ca17a180786b69acc140d282b71a49"
  },
  "kernelspec": {
   "display_name": "Python 3.9.7 64-bit",
   "name": "python3"
  },
  "language_info": {
   "codemirror_mode": {
    "name": "ipython",
    "version": 3
   },
   "file_extension": ".py",
   "mimetype": "text/x-python",
   "name": "python",
   "nbconvert_exporter": "python",
   "pygments_lexer": "ipython3",
   "version": "3.9.7"
  }
 },
 "nbformat": 4,
 "nbformat_minor": 2
}
